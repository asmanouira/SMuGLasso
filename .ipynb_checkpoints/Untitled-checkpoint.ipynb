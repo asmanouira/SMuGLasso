{
 "cells": [
  {
   "cell_type": "code",
   "execution_count": 2,
   "id": "480f3c54-4d3c-406d-ba39-f79450a9c380",
   "metadata": {},
   "outputs": [
    {
     "ename": "ModuleNotFoundError",
     "evalue": "No module named 'Muglasso'",
     "output_type": "error",
     "traceback": [
      "\u001b[0;31m---------------------------------------------------------------------------\u001b[0m",
      "\u001b[0;31mModuleNotFoundError\u001b[0m                       Traceback (most recent call last)",
      "Cell \u001b[0;32mIn[2], line 4\u001b[0m\n\u001b[1;32m      2\u001b[0m \u001b[38;5;28;01mimport\u001b[39;00m \u001b[38;5;21;01mnumpy\u001b[39;00m \u001b[38;5;28;01mas\u001b[39;00m \u001b[38;5;21;01mnp\u001b[39;00m\n\u001b[1;32m      3\u001b[0m \u001b[38;5;28;01mimport\u001b[39;00m \u001b[38;5;21;01mpandas\u001b[39;00m \u001b[38;5;28;01mas\u001b[39;00m \u001b[38;5;21;01mpd\u001b[39;00m\n\u001b[0;32m----> 4\u001b[0m \u001b[38;5;28;01mfrom\u001b[39;00m \u001b[38;5;21;01mMuglasso\u001b[39;00m \u001b[38;5;28;01mimport\u001b[39;00m MuGLasso\n\u001b[1;32m      5\u001b[0m \u001b[38;5;28;01mfrom\u001b[39;00m \u001b[38;5;21;01mSmuglasso\u001b[39;00m \u001b[38;5;28;01mimport\u001b[39;00m SMuGLasso\n\u001b[1;32m      6\u001b[0m \u001b[38;5;28;01mfrom\u001b[39;00m \u001b[38;5;21;01minput_generator\u001b[39;00m \u001b[38;5;28;01mimport\u001b[39;00m input_matrix, plot_data\n",
      "\u001b[0;31mModuleNotFoundError\u001b[0m: No module named 'Muglasso'"
     ]
    }
   ],
   "source": [
    "import subprocess\n",
    "import numpy as np\n",
    "import pandas as pd\n",
    "from muglasso import MuGLasso\n",
    "from smuglasso import SMuGLasso\n",
    "from input_generator import input_matrix, plot_data\n",
    "from merge_shared_groups import merge_multiple_LD_groups\n",
    "from multitask_stability_selection import stability_selection\n",
    "\n",
    "def main():\n",
    "    # Step 1: Data Transformation\n",
    "    print(\"Step 1: Data Transformation...\")\n",
    "    data_path = \"genotype_data.raw\"  # Replace with your genotype file path\n",
    "    n_tasks = 3  # Number of tasks\n",
    "    n_samples = 100  # Total number of samples\n",
    "    n_samples_per_task = [30, 30, 40]  # Samples per task\n",
    "    n_features = 1000  # Number of features (SNPs)\n",
    "\n",
    "    # Transform data to MuGLasso input format\n",
    "    X_mt = input_matrix(data_path, n_tasks, n_samples, n_samples_per_task, n_features)\n",
    "    plot_data(X_mt)  # Save design matrix visualization\n",
    "    print(f\"Transformed data shape: {X_mt.shape}\")\n",
    "\n",
    "    # Step 2: LD Groups Clustering (R Code Execution)\n",
    "    print(\"Step 2: Perform LD Groups Clustering in R...\")\n",
    "    try:\n",
    "        # Run the LD_groups_clustering.R script using subprocess\n",
    "        r_script = \"LD_groups_clustering.R\"\n",
    "        subprocess.run([\"Rscript\", r_script], check=True)\n",
    "        print(\"LD groups clustering completed successfully!\")\n",
    "    except subprocess.CalledProcessError as e:\n",
    "        print(f\"Error during R script execution: {e}\")\n",
    "        return\n",
    "\n",
    "    # Step 3: Merge LD Groups\n",
    "    print(\"Step 3: Merging LD Groups...\")\n",
    "    ld_groups_file = \"LD_groups.rds\"  # Output from the R script\n",
    "    ld_groups = pd.read_rds(ld_groups_file)  # Replace with a Python RDS reader or pre-convert it\n",
    "    merged_ld_groups = merge_multiple_LD_groups(ld_groups)\n",
    "\n",
    "    print(f\"Merged LD Groups: {merged_ld_groups}\")\n",
    "\n",
    "    # Step 4: Run MuGLasso and SMuGLasso with Stability Selection\n",
    "    print(\"Step 4: Running Stability Selection for MuGLasso and SMuGLasso...\")\n",
    "    y = np.random.rand(n_samples)  # Example target data, replace with actual data\n",
    "    lambdas = np.logspace(-3, 0, 5)  # Regularization parameter values\n",
    "    n_bootstrap_iterations = 50\n",
    "    bootstrap_sets = [np.random.choice(range(n_samples), size=n_samples // 2, replace=False)\n",
    "                      for _ in range(5)]  # Example bootstrap sets\n",
    "    seed = 42\n",
    "\n",
    "    # Initialize MuGLasso and SMuGLasso models\n",
    "    muglasso_model = MuGLasso(loss='quadratic', tau=0.5, lambda2=0.1, verbose=True)\n",
    "    smuglasso_model = SMuGLasso(loss='quadratic', alpha=0.5, lambda1=0.5, lambda2=0.1, verbose=True)\n",
    "\n",
    "    # Perform stability selection for MuGLasso\n",
    "    print(\"Running MuGLasso...\")\n",
    "    muglasso_scores = stability_selection(muglasso_model, lambdas, n_bootstrap_iterations, X_mt, y, bootstrap_sets, seed)\n",
    "    print(f\"MuGLasso Stability Scores:\\n{muglasso_scores}\")\n",
    "\n",
    "    # Perform stability selection for SMuGLasso\n",
    "    print(\"Running SMuGLasso...\")\n",
    "    smuglasso_scores = stability_selection(smuglasso_model, lambdas, n_bootstrap_iterations, X_mt, y, bootstrap_sets, seed)\n",
    "    print(f\"SMuGLasso Stability Scores:\\n{smuglasso_scores}\")\n",
    "\n",
    "    # Save Results\n",
    "    print(\"Saving results...\")\n",
    "    np.savetxt(\"muglasso_stability_scores.csv\", muglasso_scores, delimiter=\",\")\n",
    "    np.savetxt(\"smuglasso_stability_scores.csv\", smuglasso_scores, delimiter=\",\")\n",
    "\n",
    "    print(\"Pipeline complete!\")\n",
    "\n",
    "if __name__ == \"__main__\":\n",
    "    main()\n"
   ]
  },
  {
   "cell_type": "code",
   "execution_count": null,
   "id": "92a9774d-07f1-41b7-9f14-609666af37e2",
   "metadata": {},
   "outputs": [],
   "source": []
  }
 ],
 "metadata": {
  "kernelspec": {
   "display_name": "Python 3 (ipykernel)",
   "language": "python",
   "name": "python3"
  },
  "language_info": {
   "codemirror_mode": {
    "name": "ipython",
    "version": 3
   },
   "file_extension": ".py",
   "mimetype": "text/x-python",
   "name": "python",
   "nbconvert_exporter": "python",
   "pygments_lexer": "ipython3",
   "version": "3.12.1"
  }
 },
 "nbformat": 4,
 "nbformat_minor": 5
}
